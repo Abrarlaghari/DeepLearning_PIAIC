{
 "cells": [
  {
   "cell_type": "code",
   "execution_count": 1901,
   "metadata": {},
   "outputs": [],
   "source": [
    "import tensorflow as tf\n",
    "import pandas as pd\n",
    "import numpy as np\n",
    "import matplotlib.pyplot as plt"
   ]
  },
  {
   "cell_type": "code",
   "execution_count": 1904,
   "metadata": {},
   "outputs": [],
   "source": [
    "# Load the dataset.\n",
    "df = pd.read_csv('ionosphere_data.csv')"
   ]
  },
  {
   "cell_type": "code",
   "execution_count": 1906,
   "metadata": {
    "scrolled": true
   },
   "outputs": [
    {
     "data": {
      "text/html": [
       "<div>\n",
       "<style scoped>\n",
       "    .dataframe tbody tr th:only-of-type {\n",
       "        vertical-align: middle;\n",
       "    }\n",
       "\n",
       "    .dataframe tbody tr th {\n",
       "        vertical-align: top;\n",
       "    }\n",
       "\n",
       "    .dataframe thead th {\n",
       "        text-align: right;\n",
       "    }\n",
       "</style>\n",
       "<table border=\"1\" class=\"dataframe\">\n",
       "  <thead>\n",
       "    <tr style=\"text-align: right;\">\n",
       "      <th></th>\n",
       "      <th>feature1</th>\n",
       "      <th>feature2</th>\n",
       "      <th>feature3</th>\n",
       "      <th>feature4</th>\n",
       "      <th>feature5</th>\n",
       "      <th>feature6</th>\n",
       "      <th>feature7</th>\n",
       "      <th>feature8</th>\n",
       "      <th>feature9</th>\n",
       "      <th>feature10</th>\n",
       "      <th>...</th>\n",
       "      <th>feature26</th>\n",
       "      <th>feature27</th>\n",
       "      <th>feature28</th>\n",
       "      <th>feature29</th>\n",
       "      <th>feature30</th>\n",
       "      <th>feature31</th>\n",
       "      <th>feature32</th>\n",
       "      <th>feature33</th>\n",
       "      <th>feature34</th>\n",
       "      <th>label</th>\n",
       "    </tr>\n",
       "  </thead>\n",
       "  <tbody>\n",
       "    <tr>\n",
       "      <th>0</th>\n",
       "      <td>1</td>\n",
       "      <td>0</td>\n",
       "      <td>0.99539</td>\n",
       "      <td>-0.05889</td>\n",
       "      <td>0.85243</td>\n",
       "      <td>0.02306</td>\n",
       "      <td>0.83398</td>\n",
       "      <td>-0.37708</td>\n",
       "      <td>1.00000</td>\n",
       "      <td>0.03760</td>\n",
       "      <td>...</td>\n",
       "      <td>-0.51171</td>\n",
       "      <td>0.41078</td>\n",
       "      <td>-0.46168</td>\n",
       "      <td>0.21266</td>\n",
       "      <td>-0.34090</td>\n",
       "      <td>0.42267</td>\n",
       "      <td>-0.54487</td>\n",
       "      <td>0.18641</td>\n",
       "      <td>-0.45300</td>\n",
       "      <td>g</td>\n",
       "    </tr>\n",
       "    <tr>\n",
       "      <th>1</th>\n",
       "      <td>1</td>\n",
       "      <td>0</td>\n",
       "      <td>1.00000</td>\n",
       "      <td>-0.18829</td>\n",
       "      <td>0.93035</td>\n",
       "      <td>-0.36156</td>\n",
       "      <td>-0.10868</td>\n",
       "      <td>-0.93597</td>\n",
       "      <td>1.00000</td>\n",
       "      <td>-0.04549</td>\n",
       "      <td>...</td>\n",
       "      <td>-0.26569</td>\n",
       "      <td>-0.20468</td>\n",
       "      <td>-0.18401</td>\n",
       "      <td>-0.19040</td>\n",
       "      <td>-0.11593</td>\n",
       "      <td>-0.16626</td>\n",
       "      <td>-0.06288</td>\n",
       "      <td>-0.13738</td>\n",
       "      <td>-0.02447</td>\n",
       "      <td>b</td>\n",
       "    </tr>\n",
       "    <tr>\n",
       "      <th>2</th>\n",
       "      <td>1</td>\n",
       "      <td>0</td>\n",
       "      <td>1.00000</td>\n",
       "      <td>-0.03365</td>\n",
       "      <td>1.00000</td>\n",
       "      <td>0.00485</td>\n",
       "      <td>1.00000</td>\n",
       "      <td>-0.12062</td>\n",
       "      <td>0.88965</td>\n",
       "      <td>0.01198</td>\n",
       "      <td>...</td>\n",
       "      <td>-0.40220</td>\n",
       "      <td>0.58984</td>\n",
       "      <td>-0.22145</td>\n",
       "      <td>0.43100</td>\n",
       "      <td>-0.17365</td>\n",
       "      <td>0.60436</td>\n",
       "      <td>-0.24180</td>\n",
       "      <td>0.56045</td>\n",
       "      <td>-0.38238</td>\n",
       "      <td>g</td>\n",
       "    </tr>\n",
       "    <tr>\n",
       "      <th>3</th>\n",
       "      <td>1</td>\n",
       "      <td>0</td>\n",
       "      <td>1.00000</td>\n",
       "      <td>-0.45161</td>\n",
       "      <td>1.00000</td>\n",
       "      <td>1.00000</td>\n",
       "      <td>0.71216</td>\n",
       "      <td>-1.00000</td>\n",
       "      <td>0.00000</td>\n",
       "      <td>0.00000</td>\n",
       "      <td>...</td>\n",
       "      <td>0.90695</td>\n",
       "      <td>0.51613</td>\n",
       "      <td>1.00000</td>\n",
       "      <td>1.00000</td>\n",
       "      <td>-0.20099</td>\n",
       "      <td>0.25682</td>\n",
       "      <td>1.00000</td>\n",
       "      <td>-0.32382</td>\n",
       "      <td>1.00000</td>\n",
       "      <td>b</td>\n",
       "    </tr>\n",
       "    <tr>\n",
       "      <th>4</th>\n",
       "      <td>1</td>\n",
       "      <td>0</td>\n",
       "      <td>1.00000</td>\n",
       "      <td>-0.02401</td>\n",
       "      <td>0.94140</td>\n",
       "      <td>0.06531</td>\n",
       "      <td>0.92106</td>\n",
       "      <td>-0.23255</td>\n",
       "      <td>0.77152</td>\n",
       "      <td>-0.16399</td>\n",
       "      <td>...</td>\n",
       "      <td>-0.65158</td>\n",
       "      <td>0.13290</td>\n",
       "      <td>-0.53206</td>\n",
       "      <td>0.02431</td>\n",
       "      <td>-0.62197</td>\n",
       "      <td>-0.05707</td>\n",
       "      <td>-0.59573</td>\n",
       "      <td>-0.04608</td>\n",
       "      <td>-0.65697</td>\n",
       "      <td>g</td>\n",
       "    </tr>\n",
       "  </tbody>\n",
       "</table>\n",
       "<p>5 rows × 35 columns</p>\n",
       "</div>"
      ],
      "text/plain": [
       "   feature1  feature2  feature3  feature4  feature5  feature6  feature7  \\\n",
       "0         1         0   0.99539  -0.05889   0.85243   0.02306   0.83398   \n",
       "1         1         0   1.00000  -0.18829   0.93035  -0.36156  -0.10868   \n",
       "2         1         0   1.00000  -0.03365   1.00000   0.00485   1.00000   \n",
       "3         1         0   1.00000  -0.45161   1.00000   1.00000   0.71216   \n",
       "4         1         0   1.00000  -0.02401   0.94140   0.06531   0.92106   \n",
       "\n",
       "   feature8  feature9  feature10  ...  feature26  feature27  feature28  \\\n",
       "0  -0.37708   1.00000    0.03760  ...   -0.51171    0.41078   -0.46168   \n",
       "1  -0.93597   1.00000   -0.04549  ...   -0.26569   -0.20468   -0.18401   \n",
       "2  -0.12062   0.88965    0.01198  ...   -0.40220    0.58984   -0.22145   \n",
       "3  -1.00000   0.00000    0.00000  ...    0.90695    0.51613    1.00000   \n",
       "4  -0.23255   0.77152   -0.16399  ...   -0.65158    0.13290   -0.53206   \n",
       "\n",
       "   feature29  feature30  feature31  feature32  feature33  feature34  label  \n",
       "0    0.21266   -0.34090    0.42267   -0.54487    0.18641   -0.45300      g  \n",
       "1   -0.19040   -0.11593   -0.16626   -0.06288   -0.13738   -0.02447      b  \n",
       "2    0.43100   -0.17365    0.60436   -0.24180    0.56045   -0.38238      g  \n",
       "3    1.00000   -0.20099    0.25682    1.00000   -0.32382    1.00000      b  \n",
       "4    0.02431   -0.62197   -0.05707   -0.59573   -0.04608   -0.65697      g  \n",
       "\n",
       "[5 rows x 35 columns]"
      ]
     },
     "execution_count": 1906,
     "metadata": {},
     "output_type": "execute_result"
    }
   ],
   "source": [
    "df.head()"
   ]
  },
  {
   "cell_type": "code",
   "execution_count": 1909,
   "metadata": {
    "scrolled": true
   },
   "outputs": [
    {
     "data": {
      "text/plain": [
       "array([0], dtype=int64)"
      ]
     },
     "execution_count": 1909,
     "metadata": {},
     "output_type": "execute_result"
    }
   ],
   "source": [
    "df['feature2'].unique()"
   ]
  },
  {
   "cell_type": "code",
   "execution_count": 1910,
   "metadata": {},
   "outputs": [],
   "source": [
    "df.drop(df.columns[1], inplace=True, axis=1)\n"
   ]
  },
  {
   "cell_type": "code",
   "execution_count": 1911,
   "metadata": {
    "scrolled": true
   },
   "outputs": [
    {
     "data": {
      "text/html": [
       "<div>\n",
       "<style scoped>\n",
       "    .dataframe tbody tr th:only-of-type {\n",
       "        vertical-align: middle;\n",
       "    }\n",
       "\n",
       "    .dataframe tbody tr th {\n",
       "        vertical-align: top;\n",
       "    }\n",
       "\n",
       "    .dataframe thead th {\n",
       "        text-align: right;\n",
       "    }\n",
       "</style>\n",
       "<table border=\"1\" class=\"dataframe\">\n",
       "  <thead>\n",
       "    <tr style=\"text-align: right;\">\n",
       "      <th></th>\n",
       "      <th>feature1</th>\n",
       "      <th>feature3</th>\n",
       "      <th>feature4</th>\n",
       "      <th>feature5</th>\n",
       "      <th>feature6</th>\n",
       "      <th>feature7</th>\n",
       "      <th>feature8</th>\n",
       "      <th>feature9</th>\n",
       "      <th>feature10</th>\n",
       "      <th>feature11</th>\n",
       "      <th>...</th>\n",
       "      <th>feature26</th>\n",
       "      <th>feature27</th>\n",
       "      <th>feature28</th>\n",
       "      <th>feature29</th>\n",
       "      <th>feature30</th>\n",
       "      <th>feature31</th>\n",
       "      <th>feature32</th>\n",
       "      <th>feature33</th>\n",
       "      <th>feature34</th>\n",
       "      <th>label</th>\n",
       "    </tr>\n",
       "  </thead>\n",
       "  <tbody>\n",
       "    <tr>\n",
       "      <th>0</th>\n",
       "      <td>1</td>\n",
       "      <td>0.99539</td>\n",
       "      <td>-0.05889</td>\n",
       "      <td>0.85243</td>\n",
       "      <td>0.02306</td>\n",
       "      <td>0.83398</td>\n",
       "      <td>-0.37708</td>\n",
       "      <td>1.00000</td>\n",
       "      <td>0.03760</td>\n",
       "      <td>0.85243</td>\n",
       "      <td>...</td>\n",
       "      <td>-0.51171</td>\n",
       "      <td>0.41078</td>\n",
       "      <td>-0.46168</td>\n",
       "      <td>0.21266</td>\n",
       "      <td>-0.34090</td>\n",
       "      <td>0.42267</td>\n",
       "      <td>-0.54487</td>\n",
       "      <td>0.18641</td>\n",
       "      <td>-0.45300</td>\n",
       "      <td>g</td>\n",
       "    </tr>\n",
       "    <tr>\n",
       "      <th>1</th>\n",
       "      <td>1</td>\n",
       "      <td>1.00000</td>\n",
       "      <td>-0.18829</td>\n",
       "      <td>0.93035</td>\n",
       "      <td>-0.36156</td>\n",
       "      <td>-0.10868</td>\n",
       "      <td>-0.93597</td>\n",
       "      <td>1.00000</td>\n",
       "      <td>-0.04549</td>\n",
       "      <td>0.50874</td>\n",
       "      <td>...</td>\n",
       "      <td>-0.26569</td>\n",
       "      <td>-0.20468</td>\n",
       "      <td>-0.18401</td>\n",
       "      <td>-0.19040</td>\n",
       "      <td>-0.11593</td>\n",
       "      <td>-0.16626</td>\n",
       "      <td>-0.06288</td>\n",
       "      <td>-0.13738</td>\n",
       "      <td>-0.02447</td>\n",
       "      <td>b</td>\n",
       "    </tr>\n",
       "    <tr>\n",
       "      <th>2</th>\n",
       "      <td>1</td>\n",
       "      <td>1.00000</td>\n",
       "      <td>-0.03365</td>\n",
       "      <td>1.00000</td>\n",
       "      <td>0.00485</td>\n",
       "      <td>1.00000</td>\n",
       "      <td>-0.12062</td>\n",
       "      <td>0.88965</td>\n",
       "      <td>0.01198</td>\n",
       "      <td>0.73082</td>\n",
       "      <td>...</td>\n",
       "      <td>-0.40220</td>\n",
       "      <td>0.58984</td>\n",
       "      <td>-0.22145</td>\n",
       "      <td>0.43100</td>\n",
       "      <td>-0.17365</td>\n",
       "      <td>0.60436</td>\n",
       "      <td>-0.24180</td>\n",
       "      <td>0.56045</td>\n",
       "      <td>-0.38238</td>\n",
       "      <td>g</td>\n",
       "    </tr>\n",
       "    <tr>\n",
       "      <th>3</th>\n",
       "      <td>1</td>\n",
       "      <td>1.00000</td>\n",
       "      <td>-0.45161</td>\n",
       "      <td>1.00000</td>\n",
       "      <td>1.00000</td>\n",
       "      <td>0.71216</td>\n",
       "      <td>-1.00000</td>\n",
       "      <td>0.00000</td>\n",
       "      <td>0.00000</td>\n",
       "      <td>0.00000</td>\n",
       "      <td>...</td>\n",
       "      <td>0.90695</td>\n",
       "      <td>0.51613</td>\n",
       "      <td>1.00000</td>\n",
       "      <td>1.00000</td>\n",
       "      <td>-0.20099</td>\n",
       "      <td>0.25682</td>\n",
       "      <td>1.00000</td>\n",
       "      <td>-0.32382</td>\n",
       "      <td>1.00000</td>\n",
       "      <td>b</td>\n",
       "    </tr>\n",
       "    <tr>\n",
       "      <th>4</th>\n",
       "      <td>1</td>\n",
       "      <td>1.00000</td>\n",
       "      <td>-0.02401</td>\n",
       "      <td>0.94140</td>\n",
       "      <td>0.06531</td>\n",
       "      <td>0.92106</td>\n",
       "      <td>-0.23255</td>\n",
       "      <td>0.77152</td>\n",
       "      <td>-0.16399</td>\n",
       "      <td>0.52798</td>\n",
       "      <td>...</td>\n",
       "      <td>-0.65158</td>\n",
       "      <td>0.13290</td>\n",
       "      <td>-0.53206</td>\n",
       "      <td>0.02431</td>\n",
       "      <td>-0.62197</td>\n",
       "      <td>-0.05707</td>\n",
       "      <td>-0.59573</td>\n",
       "      <td>-0.04608</td>\n",
       "      <td>-0.65697</td>\n",
       "      <td>g</td>\n",
       "    </tr>\n",
       "  </tbody>\n",
       "</table>\n",
       "<p>5 rows × 34 columns</p>\n",
       "</div>"
      ],
      "text/plain": [
       "   feature1  feature3  feature4  feature5  feature6  feature7  feature8  \\\n",
       "0         1   0.99539  -0.05889   0.85243   0.02306   0.83398  -0.37708   \n",
       "1         1   1.00000  -0.18829   0.93035  -0.36156  -0.10868  -0.93597   \n",
       "2         1   1.00000  -0.03365   1.00000   0.00485   1.00000  -0.12062   \n",
       "3         1   1.00000  -0.45161   1.00000   1.00000   0.71216  -1.00000   \n",
       "4         1   1.00000  -0.02401   0.94140   0.06531   0.92106  -0.23255   \n",
       "\n",
       "   feature9  feature10  feature11  ...  feature26  feature27  feature28  \\\n",
       "0   1.00000    0.03760    0.85243  ...   -0.51171    0.41078   -0.46168   \n",
       "1   1.00000   -0.04549    0.50874  ...   -0.26569   -0.20468   -0.18401   \n",
       "2   0.88965    0.01198    0.73082  ...   -0.40220    0.58984   -0.22145   \n",
       "3   0.00000    0.00000    0.00000  ...    0.90695    0.51613    1.00000   \n",
       "4   0.77152   -0.16399    0.52798  ...   -0.65158    0.13290   -0.53206   \n",
       "\n",
       "   feature29  feature30  feature31  feature32  feature33  feature34  label  \n",
       "0    0.21266   -0.34090    0.42267   -0.54487    0.18641   -0.45300      g  \n",
       "1   -0.19040   -0.11593   -0.16626   -0.06288   -0.13738   -0.02447      b  \n",
       "2    0.43100   -0.17365    0.60436   -0.24180    0.56045   -0.38238      g  \n",
       "3    1.00000   -0.20099    0.25682    1.00000   -0.32382    1.00000      b  \n",
       "4    0.02431   -0.62197   -0.05707   -0.59573   -0.04608   -0.65697      g  \n",
       "\n",
       "[5 rows x 34 columns]"
      ]
     },
     "execution_count": 1911,
     "metadata": {},
     "output_type": "execute_result"
    }
   ],
   "source": [
    "df.head()"
   ]
  },
  {
   "cell_type": "code",
   "execution_count": 1916,
   "metadata": {
    "scrolled": true
   },
   "outputs": [
    {
     "data": {
      "text/plain": [
       "feature1     0\n",
       "feature3     0\n",
       "feature4     0\n",
       "feature5     0\n",
       "feature6     0\n",
       "feature7     0\n",
       "feature8     0\n",
       "feature9     0\n",
       "feature10    0\n",
       "feature11    0\n",
       "feature12    0\n",
       "feature13    0\n",
       "feature14    0\n",
       "feature15    0\n",
       "feature16    0\n",
       "feature17    0\n",
       "feature18    0\n",
       "feature19    0\n",
       "feature20    0\n",
       "feature21    0\n",
       "feature22    0\n",
       "feature23    0\n",
       "feature24    0\n",
       "feature25    0\n",
       "feature26    0\n",
       "feature27    0\n",
       "feature28    0\n",
       "feature29    0\n",
       "feature30    0\n",
       "feature31    0\n",
       "feature32    0\n",
       "feature33    0\n",
       "feature34    0\n",
       "label        0\n",
       "dtype: int64"
      ]
     },
     "execution_count": 1916,
     "metadata": {},
     "output_type": "execute_result"
    }
   ],
   "source": [
    "# Find missing values\n",
    "df.isnull().sum()"
   ]
  },
  {
   "cell_type": "code",
   "execution_count": 1917,
   "metadata": {},
   "outputs": [],
   "source": [
    "df['label'] = [1 if lbl == 'g' else 0 for lbl in df['label']]"
   ]
  },
  {
   "cell_type": "code",
   "execution_count": 1918,
   "metadata": {},
   "outputs": [],
   "source": [
    "train_data = df.sample(frac= 0.6, random_state=125)\n",
    "test_data = df.drop(train_data.index)"
   ]
  },
  {
   "cell_type": "code",
   "execution_count": 1919,
   "metadata": {},
   "outputs": [],
   "source": [
    "train_label = train_data.iloc[:,-1]\n",
    "train_data = train_data.iloc[:,0:-1]\n",
    "test_label = test_data.iloc[:,-1]\n",
    "test_data = test_data.iloc[:,0:-1]"
   ]
  },
  {
   "cell_type": "code",
   "execution_count": 1925,
   "metadata": {},
   "outputs": [
    {
     "data": {
      "text/plain": [
       "(211, 33)"
      ]
     },
     "execution_count": 1925,
     "metadata": {},
     "output_type": "execute_result"
    }
   ],
   "source": [
    "train_data.shape"
   ]
  },
  {
   "cell_type": "code",
   "execution_count": 1926,
   "metadata": {},
   "outputs": [
    {
     "data": {
      "text/plain": [
       "(140, 33)"
      ]
     },
     "execution_count": 1926,
     "metadata": {},
     "output_type": "execute_result"
    }
   ],
   "source": [
    "test_data.shape"
   ]
  },
  {
   "cell_type": "code",
   "execution_count": 1927,
   "metadata": {},
   "outputs": [
    {
     "data": {
      "text/plain": [
       "(211,)"
      ]
     },
     "execution_count": 1927,
     "metadata": {},
     "output_type": "execute_result"
    }
   ],
   "source": [
    "train_label.shape"
   ]
  },
  {
   "cell_type": "code",
   "execution_count": 1928,
   "metadata": {},
   "outputs": [
    {
     "data": {
      "text/plain": [
       "(140,)"
      ]
     },
     "execution_count": 1928,
     "metadata": {},
     "output_type": "execute_result"
    }
   ],
   "source": [
    "test_label.shape"
   ]
  },
  {
   "cell_type": "code",
   "execution_count": 1929,
   "metadata": {},
   "outputs": [
    {
     "data": {
      "text/plain": [
       "140"
      ]
     },
     "execution_count": 1929,
     "metadata": {},
     "output_type": "execute_result"
    }
   ],
   "source": [
    "train_label.sum()"
   ]
  },
  {
   "cell_type": "code",
   "execution_count": 1930,
   "metadata": {},
   "outputs": [
    {
     "data": {
      "text/plain": [
       "211"
      ]
     },
     "execution_count": 1930,
     "metadata": {},
     "output_type": "execute_result"
    }
   ],
   "source": [
    "len(train_label)"
   ]
  },
  {
   "cell_type": "code",
   "execution_count": 1931,
   "metadata": {},
   "outputs": [],
   "source": [
    "# train_label.sum()/len(train_label)"
   ]
  },
  {
   "cell_type": "markdown",
   "metadata": {},
   "source": [
    "### Data Preprocessing"
   ]
  },
  {
   "cell_type": "code",
   "execution_count": 1932,
   "metadata": {},
   "outputs": [],
   "source": [
    "train_data = train_data.to_numpy()"
   ]
  },
  {
   "cell_type": "code",
   "execution_count": 1933,
   "metadata": {},
   "outputs": [],
   "source": [
    "train_label = train_label.to_numpy().astype('float32')"
   ]
  },
  {
   "cell_type": "code",
   "execution_count": 1934,
   "metadata": {},
   "outputs": [],
   "source": [
    "test_data = test_data.to_numpy()"
   ]
  },
  {
   "cell_type": "code",
   "execution_count": 1935,
   "metadata": {},
   "outputs": [],
   "source": [
    "test_label = test_label.to_numpy().astype('float32')"
   ]
  },
  {
   "cell_type": "code",
   "execution_count": 1936,
   "metadata": {},
   "outputs": [],
   "source": [
    "#train_set = np.array(train_set.as_matrix())\n",
    "#train_label = np.array(pd.DataFrame(train_label).as_matrix())"
   ]
  },
  {
   "cell_type": "code",
   "execution_count": 1937,
   "metadata": {},
   "outputs": [
    {
     "name": "stdout",
     "output_type": "stream",
     "text": [
      "<class 'numpy.ndarray'>\n",
      "<class 'numpy.ndarray'>\n",
      "<class 'numpy.ndarray'>\n",
      "<class 'numpy.ndarray'>\n"
     ]
    }
   ],
   "source": [
    "print(type(train_data))\n",
    "print(type(train_label))\n",
    "print(type(test_data))\n",
    "print(type(test_label))\n"
   ]
  },
  {
   "cell_type": "code",
   "execution_count": 1938,
   "metadata": {},
   "outputs": [
    {
     "name": "stdout",
     "output_type": "stream",
     "text": [
      "float64\n",
      "float32\n",
      "float32\n",
      "float64\n"
     ]
    }
   ],
   "source": [
    "print(train_data.dtype)\n",
    "print(train_label.dtype)\n",
    "print(test_label.dtype)\n",
    "print(test_data.dtype)"
   ]
  },
  {
   "cell_type": "markdown",
   "metadata": {},
   "source": [
    "### Model Architecture"
   ]
  },
  {
   "cell_type": "code",
   "execution_count": 1939,
   "metadata": {},
   "outputs": [],
   "source": [
    "from tensorflow.keras.models import Sequential\n",
    "from tensorflow.keras.layers import Dense, Dropout\n",
    "\n",
    "# Define model\n",
    "model = Sequential()\n",
    "model.add(Dense(128, activation='relu', input_shape=(train_data.shape[1],)))\n",
    "model.add(Dropout(0.3))\n",
    "model.add(Dense(64, activation='relu'))\n",
    "model.add(Dropout(0.3))\n",
    "model.add(Dense(1,  activation='sigmoid'))"
   ]
  },
  {
   "cell_type": "code",
   "execution_count": 1940,
   "metadata": {},
   "outputs": [
    {
     "name": "stdout",
     "output_type": "stream",
     "text": [
      "Model: \"sequential_34\"\n",
      "_________________________________________________________________\n",
      "Layer (type)                 Output Shape              Param #   \n",
      "=================================================================\n",
      "dense_102 (Dense)            (None, 128)               4352      \n",
      "_________________________________________________________________\n",
      "dropout_68 (Dropout)         (None, 128)               0         \n",
      "_________________________________________________________________\n",
      "dense_103 (Dense)            (None, 64)                8256      \n",
      "_________________________________________________________________\n",
      "dropout_69 (Dropout)         (None, 64)                0         \n",
      "_________________________________________________________________\n",
      "dense_104 (Dense)            (None, 1)                 65        \n",
      "=================================================================\n",
      "Total params: 12,673\n",
      "Trainable params: 12,673\n",
      "Non-trainable params: 0\n",
      "_________________________________________________________________\n"
     ]
    }
   ],
   "source": [
    "model.summary()"
   ]
  },
  {
   "cell_type": "code",
   "execution_count": 1941,
   "metadata": {},
   "outputs": [],
   "source": [
    "from tensorflow.keras import optimizers\n",
    "\n",
    "model.compile(optimizer = 'RMSprop', loss='binary_crossentropy', metrics=['accuracy'])"
   ]
  },
  {
   "cell_type": "code",
   "execution_count": 1942,
   "metadata": {
    "scrolled": false
   },
   "outputs": [
    {
     "name": "stdout",
     "output_type": "stream",
     "text": [
      "Epoch 1/75\n",
      "5/5 [==============================] - 1s 66ms/step - loss: 0.6412 - accuracy: 0.6187 - val_loss: 0.5181 - val_accuracy: 0.7925\n",
      "Epoch 2/75\n",
      "5/5 [==============================] - 0s 17ms/step - loss: 0.5304 - accuracy: 0.8127 - val_loss: 0.4738 - val_accuracy: 0.8302\n",
      "Epoch 3/75\n",
      "5/5 [==============================] - 0s 20ms/step - loss: 0.5007 - accuracy: 0.7915 - val_loss: 0.4405 - val_accuracy: 0.8679\n",
      "Epoch 4/75\n",
      "5/5 [==============================] - 0s 20ms/step - loss: 0.4766 - accuracy: 0.8221 - val_loss: 0.4160 - val_accuracy: 0.8491\n",
      "Epoch 5/75\n",
      "5/5 [==============================] - 0s 17ms/step - loss: 0.4203 - accuracy: 0.8504 - val_loss: 0.3884 - val_accuracy: 0.8868\n",
      "Epoch 6/75\n",
      "5/5 [==============================] - 0s 20ms/step - loss: 0.4194 - accuracy: 0.8170 - val_loss: 0.3626 - val_accuracy: 0.9057\n",
      "Epoch 7/75\n",
      "5/5 [==============================] - 0s 18ms/step - loss: 0.3825 - accuracy: 0.8641 - val_loss: 0.3398 - val_accuracy: 0.9245\n",
      "Epoch 8/75\n",
      "5/5 [==============================] - 0s 18ms/step - loss: 0.3389 - accuracy: 0.9137 - val_loss: 0.3202 - val_accuracy: 0.9057\n",
      "Epoch 9/75\n",
      "5/5 [==============================] - 0s 18ms/step - loss: 0.3205 - accuracy: 0.8960 - val_loss: 0.3023 - val_accuracy: 0.9434\n",
      "Epoch 10/75\n",
      "5/5 [==============================] - 0s 20ms/step - loss: 0.2848 - accuracy: 0.9322 - val_loss: 0.2846 - val_accuracy: 0.9623\n",
      "Epoch 11/75\n",
      "5/5 [==============================] - 0s 20ms/step - loss: 0.2688 - accuracy: 0.9331 - val_loss: 0.2749 - val_accuracy: 0.9623\n",
      "Epoch 12/75\n",
      "5/5 [==============================] - 0s 20ms/step - loss: 0.2784 - accuracy: 0.9216 - val_loss: 0.2587 - val_accuracy: 0.9623\n",
      "Epoch 13/75\n",
      "5/5 [==============================] - 0s 19ms/step - loss: 0.2378 - accuracy: 0.9477 - val_loss: 0.2468 - val_accuracy: 0.9623\n",
      "Epoch 14/75\n",
      "5/5 [==============================] - 0s 20ms/step - loss: 0.2198 - accuracy: 0.9514 - val_loss: 0.2350 - val_accuracy: 0.9623\n",
      "Epoch 15/75\n",
      "5/5 [==============================] - 0s 18ms/step - loss: 0.1958 - accuracy: 0.9678 - val_loss: 0.2273 - val_accuracy: 0.9623\n",
      "Epoch 16/75\n",
      "5/5 [==============================] - 0s 20ms/step - loss: 0.1961 - accuracy: 0.9413 - val_loss: 0.2217 - val_accuracy: 0.9623\n",
      "Epoch 17/75\n",
      "5/5 [==============================] - 0s 19ms/step - loss: 0.1864 - accuracy: 0.9343 - val_loss: 0.2174 - val_accuracy: 0.9623\n",
      "Epoch 18/75\n",
      "5/5 [==============================] - 0s 19ms/step - loss: 0.1686 - accuracy: 0.9501 - val_loss: 0.2157 - val_accuracy: 0.9623\n",
      "Epoch 19/75\n",
      "5/5 [==============================] - 0s 18ms/step - loss: 0.1731 - accuracy: 0.9661 - val_loss: 0.2123 - val_accuracy: 0.9623\n",
      "Epoch 20/75\n",
      "5/5 [==============================] - 0s 18ms/step - loss: 0.1603 - accuracy: 0.9558 - val_loss: 0.2083 - val_accuracy: 0.9623\n",
      "Epoch 21/75\n",
      "5/5 [==============================] - 0s 20ms/step - loss: 0.1552 - accuracy: 0.9419 - val_loss: 0.2012 - val_accuracy: 0.9623\n",
      "Epoch 22/75\n",
      "5/5 [==============================] - 0s 19ms/step - loss: 0.1240 - accuracy: 0.9651 - val_loss: 0.1986 - val_accuracy: 0.9623\n",
      "Epoch 23/75\n",
      "5/5 [==============================] - 0s 20ms/step - loss: 0.1510 - accuracy: 0.9471 - val_loss: 0.1950 - val_accuracy: 0.9623\n",
      "Epoch 24/75\n",
      "5/5 [==============================] - 0s 19ms/step - loss: 0.1569 - accuracy: 0.9341 - val_loss: 0.1970 - val_accuracy: 0.9623\n",
      "Epoch 25/75\n",
      "5/5 [==============================] - 0s 19ms/step - loss: 0.1167 - accuracy: 0.9726 - val_loss: 0.1959 - val_accuracy: 0.9623\n",
      "Epoch 26/75\n",
      "5/5 [==============================] - 0s 18ms/step - loss: 0.1326 - accuracy: 0.9652 - val_loss: 0.1941 - val_accuracy: 0.9623\n",
      "Epoch 27/75\n",
      "5/5 [==============================] - 0s 18ms/step - loss: 0.1445 - accuracy: 0.9474 - val_loss: 0.1998 - val_accuracy: 0.9623\n",
      "Epoch 28/75\n",
      "5/5 [==============================] - 0s 21ms/step - loss: 0.1011 - accuracy: 0.9850 - val_loss: 0.1994 - val_accuracy: 0.9623\n",
      "Epoch 29/75\n",
      "5/5 [==============================] - 0s 19ms/step - loss: 0.1197 - accuracy: 0.9645 - val_loss: 0.2033 - val_accuracy: 0.9623\n",
      "Epoch 30/75\n",
      "5/5 [==============================] - 0s 19ms/step - loss: 0.1122 - accuracy: 0.9461 - val_loss: 0.1991 - val_accuracy: 0.9623\n",
      "Epoch 31/75\n",
      "5/5 [==============================] - 0s 17ms/step - loss: 0.1217 - accuracy: 0.9781 - val_loss: 0.2017 - val_accuracy: 0.9623\n",
      "Epoch 32/75\n",
      "5/5 [==============================] - 0s 19ms/step - loss: 0.0883 - accuracy: 0.9793 - val_loss: 0.1978 - val_accuracy: 0.9623\n",
      "Epoch 33/75\n",
      "5/5 [==============================] - 0s 20ms/step - loss: 0.1038 - accuracy: 0.9850 - val_loss: 0.2052 - val_accuracy: 0.9623\n",
      "Epoch 34/75\n",
      "5/5 [==============================] - 0s 18ms/step - loss: 0.1112 - accuracy: 0.9491 - val_loss: 0.1982 - val_accuracy: 0.9623\n",
      "Epoch 35/75\n",
      "5/5 [==============================] - 0s 22ms/step - loss: 0.0846 - accuracy: 0.9767 - val_loss: 0.2098 - val_accuracy: 0.9623\n",
      "Epoch 36/75\n",
      "5/5 [==============================] - 0s 20ms/step - loss: 0.0777 - accuracy: 0.9746 - val_loss: 0.1973 - val_accuracy: 0.9623\n",
      "Epoch 37/75\n",
      "5/5 [==============================] - 0s 17ms/step - loss: 0.0794 - accuracy: 0.9720 - val_loss: 0.2055 - val_accuracy: 0.9623\n",
      "Epoch 38/75\n",
      "5/5 [==============================] - 0s 21ms/step - loss: 0.0803 - accuracy: 0.9668 - val_loss: 0.2197 - val_accuracy: 0.9623\n",
      "Epoch 39/75\n",
      "5/5 [==============================] - 0s 19ms/step - loss: 0.0700 - accuracy: 0.9793 - val_loss: 0.2164 - val_accuracy: 0.9623\n",
      "Epoch 40/75\n",
      "5/5 [==============================] - 0s 19ms/step - loss: 0.0854 - accuracy: 0.9738 - val_loss: 0.2144 - val_accuracy: 0.9623\n",
      "Epoch 41/75\n",
      "5/5 [==============================] - 0s 20ms/step - loss: 0.0648 - accuracy: 0.9863 - val_loss: 0.2030 - val_accuracy: 0.9623\n",
      "Epoch 42/75\n",
      "5/5 [==============================] - 0s 20ms/step - loss: 0.0696 - accuracy: 0.9747 - val_loss: 0.2098 - val_accuracy: 0.9623\n",
      "Epoch 43/75\n",
      "5/5 [==============================] - 0s 20ms/step - loss: 0.0365 - accuracy: 0.9932 - val_loss: 0.2065 - val_accuracy: 0.9623\n",
      "Epoch 44/75\n",
      "5/5 [==============================] - 0s 19ms/step - loss: 0.0560 - accuracy: 0.9863 - val_loss: 0.2170 - val_accuracy: 0.9623\n",
      "Epoch 45/75\n",
      "5/5 [==============================] - 0s 19ms/step - loss: 0.0594 - accuracy: 0.9689 - val_loss: 0.2229 - val_accuracy: 0.9623\n",
      "Epoch 46/75\n",
      "5/5 [==============================] - 0s 18ms/step - loss: 0.0435 - accuracy: 0.9898 - val_loss: 0.2159 - val_accuracy: 0.9434\n",
      "Epoch 47/75\n",
      "5/5 [==============================] - 0s 20ms/step - loss: 0.0442 - accuracy: 0.9945 - val_loss: 0.2114 - val_accuracy: 0.9434\n",
      "Epoch 48/75\n",
      "5/5 [==============================] - 0s 20ms/step - loss: 0.0430 - accuracy: 0.9922 - val_loss: 0.2133 - val_accuracy: 0.9623\n",
      "Epoch 49/75\n",
      "5/5 [==============================] - 0s 19ms/step - loss: 0.0696 - accuracy: 0.9590 - val_loss: 0.2099 - val_accuracy: 0.9434\n",
      "Epoch 50/75\n",
      "5/5 [==============================] - 0s 19ms/step - loss: 0.0536 - accuracy: 0.9819 - val_loss: 0.2126 - val_accuracy: 0.9434\n",
      "Epoch 51/75\n",
      "5/5 [==============================] - 0s 20ms/step - loss: 0.0285 - accuracy: 0.9966 - val_loss: 0.2119 - val_accuracy: 0.9434\n",
      "Epoch 52/75\n",
      "5/5 [==============================] - 0s 19ms/step - loss: 0.0431 - accuracy: 0.9836 - val_loss: 0.2155 - val_accuracy: 0.9623\n",
      "Epoch 53/75\n",
      "5/5 [==============================] - 0s 21ms/step - loss: 0.0529 - accuracy: 0.9793 - val_loss: 0.2185 - val_accuracy: 0.9623\n",
      "Epoch 54/75\n",
      "5/5 [==============================] - 0s 19ms/step - loss: 0.0382 - accuracy: 0.9876 - val_loss: 0.2165 - val_accuracy: 0.9434\n",
      "Epoch 55/75\n",
      "5/5 [==============================] - 0s 18ms/step - loss: 0.0448 - accuracy: 0.9836 - val_loss: 0.2148 - val_accuracy: 0.9434\n",
      "Epoch 56/75\n",
      "5/5 [==============================] - 0s 22ms/step - loss: 0.0310 - accuracy: 0.9966 - val_loss: 0.2175 - val_accuracy: 0.9434\n",
      "Epoch 57/75\n",
      "5/5 [==============================] - 0s 19ms/step - loss: 0.0229 - accuracy: 1.0000 - val_loss: 0.2248 - val_accuracy: 0.9623\n",
      "Epoch 58/75\n",
      "5/5 [==============================] - 0s 19ms/step - loss: 0.0272 - accuracy: 0.9927 - val_loss: 0.2247 - val_accuracy: 0.9434\n",
      "Epoch 59/75\n",
      "5/5 [==============================] - 0s 20ms/step - loss: 0.0269 - accuracy: 0.9979 - val_loss: 0.2268 - val_accuracy: 0.9434\n",
      "Epoch 60/75\n",
      "5/5 [==============================] - 0s 19ms/step - loss: 0.0352 - accuracy: 0.9849 - val_loss: 0.2328 - val_accuracy: 0.9434\n",
      "Epoch 61/75\n",
      "5/5 [==============================] - 0s 18ms/step - loss: 0.0233 - accuracy: 0.9966 - val_loss: 0.2380 - val_accuracy: 0.9434\n",
      "Epoch 62/75\n",
      "5/5 [==============================] - 0s 19ms/step - loss: 0.0162 - accuracy: 0.9979 - val_loss: 0.2337 - val_accuracy: 0.9434\n",
      "Epoch 63/75\n",
      "5/5 [==============================] - 0s 19ms/step - loss: 0.0278 - accuracy: 0.9949 - val_loss: 0.2416 - val_accuracy: 0.9623\n",
      "Epoch 64/75\n",
      "5/5 [==============================] - 0s 18ms/step - loss: 0.0218 - accuracy: 0.9966 - val_loss: 0.2410 - val_accuracy: 0.9623\n",
      "Epoch 65/75\n",
      "5/5 [==============================] - 0s 17ms/step - loss: 0.0222 - accuracy: 1.0000 - val_loss: 0.2472 - val_accuracy: 0.9434\n",
      "Epoch 66/75\n",
      "5/5 [==============================] - 0s 20ms/step - loss: 0.0140 - accuracy: 0.9922 - val_loss: 0.2551 - val_accuracy: 0.9623\n",
      "Epoch 67/75\n",
      "5/5 [==============================] - 0s 19ms/step - loss: 0.0225 - accuracy: 1.0000 - val_loss: 0.2666 - val_accuracy: 0.9623\n",
      "Epoch 68/75\n",
      "5/5 [==============================] - 0s 19ms/step - loss: 0.0128 - accuracy: 0.9949 - val_loss: 0.2720 - val_accuracy: 0.9623\n",
      "Epoch 69/75\n",
      "5/5 [==============================] - 0s 23ms/step - loss: 0.0202 - accuracy: 0.9949 - val_loss: 0.2740 - val_accuracy: 0.9623\n",
      "Epoch 70/75\n",
      "5/5 [==============================] - 0s 17ms/step - loss: 0.0235 - accuracy: 0.9888 - val_loss: 0.2654 - val_accuracy: 0.9434\n",
      "Epoch 71/75\n",
      "5/5 [==============================] - 0s 19ms/step - loss: 0.0132 - accuracy: 1.0000 - val_loss: 0.2650 - val_accuracy: 0.9623\n",
      "Epoch 72/75\n",
      "5/5 [==============================] - 0s 19ms/step - loss: 0.0111 - accuracy: 1.0000 - val_loss: 0.2767 - val_accuracy: 0.9623\n",
      "Epoch 73/75\n",
      "5/5 [==============================] - 0s 18ms/step - loss: 0.0201 - accuracy: 1.0000 - val_loss: 0.2803 - val_accuracy: 0.9623\n",
      "Epoch 74/75\n",
      "5/5 [==============================] - 0s 18ms/step - loss: 0.0217 - accuracy: 0.9927 - val_loss: 0.2815 - val_accuracy: 0.9434\n",
      "Epoch 75/75\n",
      "5/5 [==============================] - 0s 18ms/step - loss: 0.0139 - accuracy: 1.0000 - val_loss: 0.2897 - val_accuracy: 0.9623\n"
     ]
    }
   ],
   "source": [
    "history = model.fit(train_data, train_label, validation_split=0.25, epochs= 75, batch_size = 32)"
   ]
  },
  {
   "cell_type": "code",
   "execution_count": 1943,
   "metadata": {
    "scrolled": true
   },
   "outputs": [
    {
     "data": {
      "text/plain": [
       "dict_keys(['loss', 'accuracy', 'val_loss', 'val_accuracy'])"
      ]
     },
     "execution_count": 1943,
     "metadata": {},
     "output_type": "execute_result"
    }
   ],
   "source": [
    "history.history.keys()"
   ]
  },
  {
   "cell_type": "code",
   "execution_count": 1944,
   "metadata": {
    "scrolled": false
   },
   "outputs": [
    {
     "data": {
      "image/png": "[encoded data removed]",
      "text/plain": [
       "<Figure size 432x288 with 1 Axes>"
      ]
     },
     "metadata": {
      "needs_background": "light"
     },
     "output_type": "display_data"
    }
   ],
   "source": [
    "history_dict = history.history\n",
    "loss_values = history_dict['loss']\n",
    "val_loss_values = history_dict['val_loss']\n",
    "\n",
    "epochs = range(75)\n",
    "plt.plot(epochs, loss_values, 'bo', label='Training loss')\n",
    "plt.plot(epochs, val_loss_values, 'b', label='Validation loss')\n",
    "plt.title('Training and validation loss')\n",
    "plt.xlabel('Epochs')\n",
    "plt.ylabel('Loss')\n",
    "plt.legend()\n",
    "plt.show()"
   ]
  },
  {
   "cell_type": "code",
   "execution_count": 1946,
   "metadata": {},
   "outputs": [
    {
     "name": "stdout",
     "output_type": "stream",
     "text": [
      "5/5 [==============================] - 0s 2ms/step - loss: 0.2786 - accuracy: 0.9286\n"
     ]
    }
   ],
   "source": [
    "score = model.evaluate(test_data, test_label)"
   ]
  }
 ],
 "metadata": {
  "kernelspec": {
   "display_name": "Python 3",
   "language": "python",
   "name": "python3"
  },
  "language_info": {
   "codemirror_mode": {
    "name": "ipython",
    "version": 3
   },
   "file_extension": ".py",
   "mimetype": "text/x-python",
   "name": "python",
   "nbconvert_exporter": "python",
   "pygments_lexer": "ipython3",
   "version": "3.6.5"
  }
 },
 "nbformat": 4,
 "nbformat_minor": 2
}
